{
 "cells": [
  {
   "cell_type": "code",
   "execution_count": 1,
   "metadata": {},
   "outputs": [
    {
     "data": {
      "text/plain": [
       "[[123, 12, 123, 12, 33], [], []]"
      ]
     },
     "execution_count": 1,
     "metadata": {},
     "output_type": "execute_result"
    }
   ],
   "source": [
    "#a list\n",
    "[[123,12,123,12,33],[],[]]"
   ]
  },
  {
   "cell_type": "code",
   "execution_count": 5,
   "metadata": {},
   "outputs": [
    {
     "data": {
      "text/plain": [
       "numpy.ndarray"
      ]
     },
     "execution_count": 5,
     "metadata": {},
     "output_type": "execute_result"
    }
   ],
   "source": [
    "import numpy\n",
    "n=numpy.arange(27)\n",
    "type(n)"
   ]
  },
  {
   "cell_type": "code",
   "execution_count": 6,
   "metadata": {},
   "outputs": [
    {
     "data": {
      "text/plain": [
       "array([[ 0,  1,  2,  3,  4,  5,  6,  7,  8],\n",
       "       [ 9, 10, 11, 12, 13, 14, 15, 16, 17],\n",
       "       [18, 19, 20, 21, 22, 23, 24, 25, 26]])"
      ]
     },
     "execution_count": 6,
     "metadata": {},
     "output_type": "execute_result"
    }
   ],
   "source": [
    "n.reshape(3,9) "
   ]
  },
  {
   "cell_type": "code",
   "execution_count": 7,
   "metadata": {},
   "outputs": [
    {
     "data": {
      "text/plain": [
       "array([[[ 0,  1,  2],\n",
       "        [ 3,  4,  5],\n",
       "        [ 6,  7,  8]],\n",
       "\n",
       "       [[ 9, 10, 11],\n",
       "        [12, 13, 14],\n",
       "        [15, 16, 17]],\n",
       "\n",
       "       [[18, 19, 20],\n",
       "        [21, 22, 23],\n",
       "        [24, 25, 26]]])"
      ]
     },
     "execution_count": 7,
     "metadata": {},
     "output_type": "execute_result"
    }
   ],
   "source": [
    "n.reshape(3,3,3) #3 dimensional array\n"
   ]
  },
  {
   "cell_type": "code",
   "execution_count": 8,
   "metadata": {},
   "outputs": [
    {
     "data": {
      "text/plain": [
       "array([list([123, 12, 123, 12, 33]), list([]), list([])], dtype=object)"
      ]
     },
     "execution_count": 8,
     "metadata": {},
     "output_type": "execute_result"
    }
   ],
   "source": [
    "#numpy array\n",
    "m = numpy.asarray([[123,12,123,12,33],[],[]])\n",
    "m"
   ]
  },
  {
   "cell_type": "code",
   "execution_count": 9,
   "metadata": {
    "collapsed": true
   },
   "outputs": [],
   "source": [
    "#import cv2"
   ]
  },
  {
   "cell_type": "code",
   "execution_count": 12,
   "metadata": {},
   "outputs": [
    {
     "data": {
      "text/plain": [
       "array([[187, 158, 104, 121, 143],\n",
       "       [198, 125, 255, 255, 147],\n",
       "       [209, 134, 255,  97, 182]], dtype=uint8)"
      ]
     },
     "execution_count": 12,
     "metadata": {},
     "output_type": "execute_result"
    }
   ],
   "source": [
    "import cv2\n",
    "#using cv2 to load images\n",
    "im_g = cv2.imread(\"./sample_data/smallgray.png\",0) #0 = grayscale, 1 = bgr.\n",
    "im_g"
   ]
  },
  {
   "cell_type": "code",
   "execution_count": 17,
   "metadata": {},
   "outputs": [
    {
     "name": "stdout",
     "output_type": "stream",
     "text": [
      "[[  0   0   0]\n",
      " [  0   0   0]\n",
      " [  0   0   0]\n",
      " [  0   0   0]\n",
      " [  0   0   0]\n",
      " [  0   0   0]\n",
      " [  0   0   0]\n",
      " [  0   0   0]\n",
      " [  0   0   0]\n",
      " [  0   0   0]\n",
      " [  0   0   0]\n",
      " [  0   0   0]\n",
      " [  0   0   0]\n",
      " [  0   0   0]\n",
      " [  0   0   0]\n",
      " [  0   0   0]\n",
      " [  0   0   0]\n",
      " [  0   0   0]\n",
      " [  0   0   0]\n",
      " [  0   0   0]\n",
      " [  0   0   0]\n",
      " [  0   0   0]\n",
      " [  0   0   0]\n",
      " [  0   0   0]\n",
      " [  0   0   0]\n",
      " [  0   0   0]\n",
      " [  0   0   0]\n",
      " [  0   0   0]\n",
      " [  0   0   0]\n",
      " [  0   0   0]\n",
      " [  0   0   0]\n",
      " [  0   0   0]\n",
      " [  0   0   0]\n",
      " [  0   0   0]\n",
      " [  0   0   0]\n",
      " [  0   0   0]\n",
      " [  0   0   0]\n",
      " [  0   0   0]\n",
      " [  0   0   0]\n",
      " [175 165 143]\n",
      " [174 164 144]\n",
      " [175 159 143]\n",
      " [  0   0   0]\n",
      " [  0   0   0]\n",
      " [  0   0   0]\n",
      " [  0   0   0]\n",
      " [  0   0   0]\n",
      " [  0   0   0]]\n"
     ]
    }
   ],
   "source": [
    "im_c = cv2.imread(\"./sample_data/icons8-Planetarium-48.png\", 1)\n",
    "print(im_c[3])"
   ]
  },
  {
   "cell_type": "code",
   "execution_count": 18,
   "metadata": {},
   "outputs": [
    {
     "data": {
      "text/plain": [
       "True"
      ]
     },
     "execution_count": 18,
     "metadata": {},
     "output_type": "execute_result"
    }
   ],
   "source": [
    "#write an image\n",
    "cv2.imwrite(\"./sample_data/newsmgray.png\", im_g)"
   ]
  },
  {
   "cell_type": "code",
   "execution_count": null,
   "metadata": {
    "collapsed": true
   },
   "outputs": [],
   "source": []
  }
 ],
 "metadata": {
  "kernelspec": {
   "display_name": "Python 3",
   "language": "python",
   "name": "python3"
  },
  "language_info": {
   "codemirror_mode": {
    "name": "ipython",
    "version": 3
   },
   "file_extension": ".py",
   "mimetype": "text/x-python",
   "name": "python",
   "nbconvert_exporter": "python",
   "pygments_lexer": "ipython3",
   "version": "3.6.2"
  }
 },
 "nbformat": 4,
 "nbformat_minor": 2
}
